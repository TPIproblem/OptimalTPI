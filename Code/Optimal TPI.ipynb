{
 "cells": [
  {
   "cell_type": "code",
   "execution_count": null,
   "metadata": {},
   "outputs": [],
   "source": [
    "import pandas as pd\n",
    "import numpy as np\n",
    "from shapely import Point, LineString\n",
    "import geopandas as gpd\n",
    "import gurobipy as gp"
   ]
  },
  {
   "cell_type": "code",
   "execution_count": null,
   "metadata": {},
   "outputs": [],
   "source": [
    "def Subset(elements, types):\n",
    "    return elements[elements[\"type\"].isin(types)]"
   ]
  },
  {
   "cell_type": "code",
   "execution_count": null,
   "metadata": {},
   "outputs": [],
   "source": [
    "raw_elements = pd.read_excel('../Data/Elements.xlsx')\n",
    "from shapely import wkt\n",
    "\n",
    "raw_elements['coor'] = raw_elements['coor'].apply(wkt.loads)\n",
    "elements = gpd.GeoDataFrame(raw_elements, crs='epsg:4326', geometry='coor')\n",
    "elements[\"length\"] = elements.length"
   ]
  },
  {
   "cell_type": "code",
   "execution_count": null,
   "metadata": {},
   "outputs": [],
   "source": [
    "elements = elements.fillna(0)\n",
    "elements.plot(column=\"terminal\")"
   ]
  },
  {
   "cell_type": "code",
   "execution_count": null,
   "metadata": {},
   "outputs": [],
   "source": [
    "from collections import defaultdict\n",
    "\n",
    "class Path:\n",
    "    def __init__(self, elements):\n",
    "        self.elements = elements\n",
    "\n",
    "    def __eq__(self, other):\n",
    "        if len(self.elements) != len(other.elements):\n",
    "            return False\n",
    "        return all(self.elements[i].name == other.elements[i].name for i in range(len(self.elements)))\n",
    "    def __len__(self):\n",
    "        return len(self.elements)\n",
    "\n",
    "    def get_length(self):\n",
    "        return sum(element.length for element in self.elements)\n",
    "\n",
    "    def get_names(self):\n",
    "        return \", \".join(e.name for e in self.elements)\n",
    "\n",
    "    def get_elements_by_name(self):\n",
    "        return [e.name for e in self.elements]\n",
    "    def get_elements(self):\n",
    "        return self.elements\n",
    "\n",
    "class Element():\n",
    "    \"\"\"An element class to represent a node for A* Pathfinding\"\"\"\n",
    "\n",
    "    def __init__(self, parent=None, element=None, g=1):\n",
    "        self.parent = parent\n",
    "        self.name = element[\"name\"]\n",
    "        self.position = element['coor']\n",
    "        self.type = element['type']\n",
    "        self.length = element['length']\n",
    "\n",
    "        self.g = g\n",
    "        self.h = 0\n",
    "        self.f = 0\n",
    "\n",
    "    def __eq__(self, other):\n",
    "        return self.name == other.name\n",
    "\n",
    "    def distance(self, other):\n",
    "        return self.position.distance(other.position)\n",
    "\n",
    "    def connectable(self, other, D):\n",
    "        return self.name != other.name and self.position.distance(other[\"coor\"]) < D #and self.type == other[\"type\"]\n",
    "\n",
    "def astar(elements, element_start, num_paths, D=100):\n",
    "    \"\"\"Returns a list of tuples as a path from the given start to the given end in the given maze\"\"\"\n",
    "\n",
    "    # Create start and end node\n",
    "    start_node = Element(None, element_start)\n",
    "    start_node.g = start_node.h = start_node.f = 0\n",
    "    end_element = elements[elements['name']==element_start[\"terminal\"]]\n",
    "    end_node = Element(None, end_element.squeeze() )\n",
    "    end_node.g = end_node.h = end_node.f = 0\n",
    "\n",
    "    next_g = 2\n",
    "    g_multiplier = 2\n",
    "\n",
    "    paths = []\n",
    "    g_weights = {}\n",
    "    possible_connections = pd.concat([Subset(elements, [\"line\"]), end_element], ignore_index=True)\n",
    "    for c in range(num_paths):\n",
    "        # Initialize both open and closed list\n",
    "        open_list = []\n",
    "        closed_list = []\n",
    "\n",
    "        # Add the start node\n",
    "        open_list.append(start_node)\n",
    "        # Loop until you find the end\n",
    "        while len(open_list) > 0:\n",
    "\n",
    "            # Get the current node\n",
    "            current_node = open_list[0]\n",
    "            current_index = 0\n",
    "            for index, item in enumerate(open_list):\n",
    "                if item.f < current_node.f:\n",
    "                    current_node = item\n",
    "                    current_index = index\n",
    "\n",
    "            # Pop current off open list, add to closed list\n",
    "            open_list.pop(current_index)\n",
    "            closed_list.append(current_node)\n",
    "\n",
    "            # Found the goal\n",
    "            if current_node == end_node:\n",
    "                path = []\n",
    "                current = current_node\n",
    "                while current is not None:\n",
    "                    path.append(current)\n",
    "                    current = current.parent\n",
    "                # print(g_weights)\n",
    "\n",
    "                p = Path(path[::-1])\n",
    "                if(p in paths or len(path)<=2):\n",
    "                    # return paths\n",
    "                    continue\n",
    "                else:\n",
    "                    paths.append(p) # Return reversed path\n",
    "                    for e in p.get_elements():\n",
    "                        if(e.name in g_weights.keys()):\n",
    "                            g_weights[e.name] *= g_multiplier\n",
    "                        else:\n",
    "                            g_weights[e.name] = next_g\n",
    "                    # print(p.get_names())\n",
    "                    # print(g_weights)\n",
    "                    break\n",
    "\n",
    "            # Generate children\n",
    "            connections = []\n",
    "            for _,element in possible_connections.iterrows():\n",
    "                already_visited = any(e.name == element[\"name\"] for e in closed_list)\n",
    "                if(already_visited):\n",
    "                    continue\n",
    "                if not current_node.connectable(element, D):\n",
    "                    continue\n",
    "\n",
    "                g = g_weights[element[\"name\"]] if element[\"name\"] in g_weights.keys() else next_g\n",
    "                # Create new node\n",
    "                new_node = Element(current_node, element, g)\n",
    "\n",
    "                # Append\n",
    "                connections.append(new_node)\n",
    "\n",
    "            # Loop through connections\n",
    "            for connection in connections:\n",
    "\n",
    "                # Child is on the closed list\n",
    "                for closed_child in closed_list:\n",
    "                    if connection == closed_child:\n",
    "                        continue\n",
    "\n",
    "                # Create the f, g, and h values\n",
    "                d = current_node.distance(connection)\n",
    "                connection.g = connection.g + current_node.g + d\n",
    "                connection.h = current_node.distance(end_node)\n",
    "                connection.f = connection.g + connection.h\n",
    "                # print(current_node.name, connection.name, connection.g, connection.h, connection.f)\n",
    "\n",
    "                # Child is already in the open list\n",
    "                for open_node in open_list:\n",
    "                    if connection == open_node and connection.g > open_node.g:\n",
    "                        continue\n",
    "\n",
    "                # Add the child to the open list\n",
    "                open_list.append(connection)\n",
    "    return paths"
   ]
  },
  {
   "cell_type": "code",
   "execution_count": null,
   "metadata": {},
   "outputs": [],
   "source": [
    "paths = []\n",
    "for _, elem in elements[elements[\"type\"]==\"customer\"].iterrows():\n",
    "    p = astar(elements, elem.squeeze(), num_paths=4, D=20)\n",
    "    paths.extend(p)\n",
    "\n",
    "for p in paths:\n",
    "    print(p.get_names())\n",
    "print(f\"Found {len(paths)} paths\")"
   ]
  },
  {
   "cell_type": "code",
   "execution_count": null,
   "metadata": {},
   "outputs": [],
   "source": [
    "distance_matrix = pd.DataFrame(index=elements['name'].values, columns=elements['name'].values, dtype=np.float64)\n",
    "\n",
    "# Calculate distances\n",
    "for i, geom1 in elements.iterrows():\n",
    "    for j, geom2 in elements.iterrows():\n",
    "        distance_matrix.at[geom1['name'], geom2['name']] = geom1['coor'].distance(geom2['coor'])\n",
    "\n",
    "import seaborn as sns\n",
    "import matplotlib.pyplot as plt\n",
    "plt.figure(figsize = (16,6))\n",
    "sns.heatmap(distance_matrix, annot=True)\n"
   ]
  },
  {
   "cell_type": "code",
   "execution_count": null,
   "metadata": {},
   "outputs": [],
   "source": [
    "def BuildHMatrix(h_paths, elements):\n",
    "    cols = elements[\"name\"].values\n",
    "    H = pd.DataFrame(columns=cols)\n",
    "\n",
    "    for i,h in enumerate(h_paths):\n",
    "        matrix_path = [0] * len(cols)\n",
    "        for e in h.get_elements_by_name():\n",
    "            idx = int(e[1:])\n",
    "            matrix_path[idx-1] = 1\n",
    "        H.loc[f\"h{i+1}\"] = matrix_path\n",
    "    return H"
   ]
  },
  {
   "cell_type": "code",
   "execution_count": null,
   "metadata": {},
   "outputs": [],
   "source": [
    "H = BuildHMatrix(paths, elements)"
   ]
  },
  {
   "cell_type": "code",
   "execution_count": null,
   "metadata": {},
   "outputs": [],
   "source": [
    "C = Subset(elements, [\"customer\"])\n",
    "T = Subset(elements, [\"junction\"])\n",
    "R = Subset(elements, [\"line\"])\n",
    "def MatrixDivision(H, C,R,T):\n",
    "    Hc = H.iloc[:,  0               :len(C)]\n",
    "    Hr = H.iloc[:,  len(C)          :len(C)+len(R)]\n",
    "    Ht = H.iloc[:,  len(C)+len(R)   :-len(Subset(elements, [\"transformer\"]))]\n",
    "    return Hc, Hr, Ht"
   ]
  },
  {
   "cell_type": "code",
   "execution_count": null,
   "metadata": {},
   "outputs": [],
   "source": [
    "Hc, Hr, Ht = MatrixDivision(H, C,R,T)\n",
    "Hc, Hr, Ht = Hc.values, Hr.values, Ht.values"
   ]
  },
  {
   "cell_type": "markdown",
   "metadata": {},
   "source": [
    "# Optimization problem"
   ]
  },
  {
   "cell_type": "code",
   "execution_count": null,
   "metadata": {},
   "outputs": [],
   "source": [
    "model = gp.Model()\n",
    "\n",
    "MatrixTr_size = (len(T), len(R))\n",
    "MatrixP_size = len(H)\n",
    "\n",
    "# Decision Variables\n",
    "Tr = model.addMVar(MatrixTr_size, vtype=gp.GRB.BINARY, name=\"Tr\")\n",
    "P = model.addMVar(MatrixP_size, vtype=gp.GRB.BINARY, name=\"P\")\n",
    "\n",
    "# Objective function 22a\n",
    "model.setObjective( 10 * P.sum() - Tr.sum(), sense=gp.GRB.MAXIMIZE )\n",
    "\n",
    "#Constaint 22b\n",
    "for k in range(Tr.shape[0]):\n",
    "    for m in range(MatrixP_size):\n",
    "        model.addConstr( np.sum(Hr,axis=1)[m] * P[m] * np.transpose(Ht)[k,m] <= ( (Tr @ np.transpose(Hr)) * np.transpose(Ht))[k,m] )\n",
    "\n",
    "#Constaint 22c\n",
    "# for k in range(len(C)):\n",
    "model.addConstr( P @ Hc <= 1)\n",
    "\n",
    "#Constaint 22d\n",
    "for k in range(len(R)):\n",
    "    model.addConstr( gp.quicksum(Tr)[k] <= 1)\n",
    "\n",
    "model.optimize()"
   ]
  },
  {
   "cell_type": "code",
   "execution_count": null,
   "metadata": {},
   "outputs": [],
   "source": [
    "p_sol = []\n",
    "for p in P:\n",
    "    p_sol.append(p.X)\n",
    "P_sol = pd.DataFrame(p_sol, dtype=np.int8).T\n",
    "P_sol.columns = list(H.index)\n",
    "\n",
    "Tr_sol = pd.DataFrame()\n",
    "for tr in Tr:\n",
    "    tr_sol = []\n",
    "    for r  in tr:\n",
    "        tr_sol.append(int(r.X))\n",
    "    Tr_sol = pd.concat([Tr_sol, pd.DataFrame(tr_sol)], axis=1, ignore_index=True)\n",
    "Tr_sol = Tr_sol.T\n",
    "Tr_sol.columns = list(R[\"name\"].values)\n",
    "Tr_sol.index = list(T[\"name\"].values)"
   ]
  },
  {
   "cell_type": "markdown",
   "metadata": {},
   "source": [
    "# Results explanation"
   ]
  },
  {
   "cell_type": "markdown",
   "metadata": {},
   "source": [
    "## P & Tr"
   ]
  },
  {
   "cell_type": "code",
   "execution_count": null,
   "metadata": {},
   "outputs": [],
   "source": [
    "P_sol"
   ]
  },
  {
   "cell_type": "code",
   "execution_count": null,
   "metadata": {},
   "outputs": [],
   "source": [
    "estimated_optimal_paths = []\n",
    "for p in P_sol.columns.values:\n",
    "    if P_sol[p][0] == 1:\n",
    "        estimated_optimal_paths.append(p)\n",
    "estimated_optimal_paths"
   ]
  },
  {
   "cell_type": "code",
   "execution_count": null,
   "metadata": {},
   "outputs": [],
   "source": [
    "H"
   ]
  },
  {
   "cell_type": "code",
   "execution_count": null,
   "metadata": {},
   "outputs": [],
   "source": [
    "Tr_sol"
   ]
  },
  {
   "cell_type": "markdown",
   "metadata": {},
   "source": [
    "## First constrain\n"
   ]
  },
  {
   "cell_type": "markdown",
   "metadata": {},
   "source": [
    "### left-hand side"
   ]
  },
  {
   "cell_type": "code",
   "execution_count": null,
   "metadata": {},
   "outputs": [],
   "source": [
    "np.sum(Hr,axis=1)"
   ]
  },
  {
   "cell_type": "code",
   "execution_count": null,
   "metadata": {},
   "outputs": [],
   "source": [
    "np.sum(Hr,axis=1) * P_sol.values"
   ]
  },
  {
   "cell_type": "code",
   "execution_count": null,
   "metadata": {},
   "outputs": [],
   "source": [
    "np.sum(Hr,axis=1) * P_sol.values * np.transpose(Ht)"
   ]
  },
  {
   "cell_type": "markdown",
   "metadata": {},
   "source": [
    "### rigth-hand side"
   ]
  },
  {
   "cell_type": "code",
   "execution_count": null,
   "metadata": {},
   "outputs": [],
   "source": [
    "(Tr_sol.values @ np.transpose(Hr))"
   ]
  },
  {
   "cell_type": "code",
   "execution_count": null,
   "metadata": {},
   "outputs": [],
   "source": [
    "(Tr_sol.values @ np.transpose(Hr)) * np.transpose(Ht) * P_sol.values"
   ]
  },
  {
   "cell_type": "markdown",
   "metadata": {},
   "source": [
    "## Second constraint"
   ]
  },
  {
   "cell_type": "code",
   "execution_count": null,
   "metadata": {},
   "outputs": [],
   "source": [
    "P_sol.values @ Hc"
   ]
  },
  {
   "cell_type": "markdown",
   "metadata": {},
   "source": [
    "## Third constraint"
   ]
  },
  {
   "cell_type": "code",
   "execution_count": null,
   "metadata": {},
   "outputs": [],
   "source": [
    "sum(Tr_sol.values)"
   ]
  },
  {
   "cell_type": "code",
   "execution_count": null,
   "metadata": {},
   "outputs": [],
   "source": []
  }
 ],
 "metadata": {
  "kernelspec": {
   "display_name": "Python 3.9.18 ('TPI')",
   "language": "python",
   "name": "python3"
  },
  "language_info": {
   "codemirror_mode": {
    "name": "ipython",
    "version": 3
   },
   "file_extension": ".py",
   "mimetype": "text/x-python",
   "name": "python",
   "nbconvert_exporter": "python",
   "pygments_lexer": "ipython3",
   "version": "3.9.18"
  },
  "orig_nbformat": 4,
  "vscode": {
   "interpreter": {
    "hash": "fa564d0f2a03dc94c7af0d2957412c12616e6a133e657fad4b1941849c6b5cc7"
   }
  }
 },
 "nbformat": 4,
 "nbformat_minor": 2
}
