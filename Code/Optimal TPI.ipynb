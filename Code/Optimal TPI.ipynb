{
 "cells": [
  {
   "cell_type": "code",
   "execution_count": null,
   "metadata": {},
   "outputs": [],
   "source": [
    "#Imports\n",
    "import functions as functions\n",
    "import numpy as np"
   ]
  },
  {
   "cell_type": "markdown",
   "metadata": {},
   "source": [
    "## Import elements (steps: A., B., C. of the methodology $\\mathfrak{M}()$)"
   ]
  },
  {
   "cell_type": "code",
   "execution_count": null,
   "metadata": {},
   "outputs": [],
   "source": [
    "elements = functions.import_elements('../Data/Elements.xlsx')"
   ]
  },
  {
   "cell_type": "markdown",
   "metadata": {},
   "source": [
    "## Identify hypothetical paths compatible with the well-defined information, $\\mathcal{H}^{\\mathcal{I}'}$ using the A* algorithm (step: D. of the methodology $\\mathfrak{M}()$)"
   ]
  },
  {
   "cell_type": "code",
   "execution_count": null,
   "metadata": {},
   "outputs": [],
   "source": [
    "paths = []\n",
    "for _, elem in elements[elements[\"type\"]==\"customer\"].iterrows():\n",
    "    p = functions.astar(elements, elem.squeeze(), num_paths=3, D=20)\n",
    "    paths.extend(p)"
   ]
  },
  {
   "cell_type": "markdown",
   "metadata": {},
   "source": [
    "### Print the elements in each path"
   ]
  },
  {
   "cell_type": "code",
   "execution_count": null,
   "metadata": {},
   "outputs": [],
   "source": [
    "for p in paths:\n",
    "    print(p.get_names())\n",
    "print(f\"Found {len(paths)} paths\")"
   ]
  },
  {
   "cell_type": "markdown",
   "metadata": {},
   "source": [
    "### Matrix generation"
   ]
  },
  {
   "cell_type": "code",
   "execution_count": null,
   "metadata": {},
   "outputs": [],
   "source": [
    "H = functions.BuildHMatrix(paths, elements)\n",
    "\n",
    "C = functions.Subset(elements, [\"customer\"])\n",
    "T = functions.Subset(elements, [\"junction\"])\n",
    "R = functions.Subset(elements, [\"line\"])\n",
    "\n",
    "Hc, Hr, Ht = functions.MatrixDivision(elements, H, C,R,T)"
   ]
  },
  {
   "cell_type": "markdown",
   "metadata": {},
   "source": [
    "## Optimization problem (step: E. of the methodology $\\mathfrak{M}()$)"
   ]
  },
  {
   "cell_type": "code",
   "execution_count": null,
   "metadata": {},
   "outputs": [],
   "source": [
    "model, Tr, P = functions.optimization_problem(C,R,T, H,Hc,Hr,Ht)"
   ]
  },
  {
   "cell_type": "markdown",
   "metadata": {},
   "source": [
    "### Results explanation"
   ]
  },
  {
   "cell_type": "markdown",
   "metadata": {},
   "source": [
    "#### Matrices $\\hat{\\mathbf{P}}$ & $\\mathbf{T}_{\\mathtt{R}}$"
   ]
  },
  {
   "cell_type": "code",
   "execution_count": null,
   "metadata": {},
   "outputs": [],
   "source": [
    "Tr_sol, P_sol, = functions.transform_matrices_in_dfs(H,T,R, Tr, P)"
   ]
  },
  {
   "cell_type": "code",
   "execution_count": null,
   "metadata": {},
   "outputs": [],
   "source": [
    "Tr_sol #print results"
   ]
  },
  {
   "cell_type": "code",
   "execution_count": null,
   "metadata": {},
   "outputs": [],
   "source": [
    "P_sol"
   ]
  },
  {
   "cell_type": "markdown",
   "metadata": {},
   "source": [
    "#### First constrain Eq. 17b)\n"
   ]
  },
  {
   "cell_type": "markdown",
   "metadata": {},
   "source": [
    "##### left-hand side"
   ]
  },
  {
   "cell_type": "code",
   "execution_count": null,
   "metadata": {},
   "outputs": [],
   "source": [
    "np.sum(Hr.values,axis=1)"
   ]
  },
  {
   "cell_type": "code",
   "execution_count": null,
   "metadata": {},
   "outputs": [],
   "source": [
    "np.sum(Hr.values,axis=1) * P_sol.values"
   ]
  },
  {
   "cell_type": "code",
   "execution_count": null,
   "metadata": {},
   "outputs": [],
   "source": [
    "np.sum(Hr.values,axis=1) * P_sol.values * np.transpose(Ht.values)"
   ]
  },
  {
   "cell_type": "markdown",
   "metadata": {},
   "source": [
    "##### rigth-hand side"
   ]
  },
  {
   "cell_type": "code",
   "execution_count": null,
   "metadata": {},
   "outputs": [],
   "source": [
    "(Tr_sol.values @ np.transpose(Hr.values))"
   ]
  },
  {
   "cell_type": "code",
   "execution_count": null,
   "metadata": {},
   "outputs": [],
   "source": [
    "(Tr_sol.values @ np.transpose(Hr.values)) * np.transpose(Ht.values) * P_sol.values"
   ]
  },
  {
   "cell_type": "markdown",
   "metadata": {},
   "source": [
    "#### Second constraint (Eq. 17c)"
   ]
  },
  {
   "cell_type": "code",
   "execution_count": null,
   "metadata": {},
   "outputs": [],
   "source": [
    "P_sol.values @ Hc.values"
   ]
  },
  {
   "cell_type": "markdown",
   "metadata": {},
   "source": [
    "#### Third constraint (Eq. 17d)"
   ]
  },
  {
   "cell_type": "code",
   "execution_count": null,
   "metadata": {},
   "outputs": [],
   "source": [
    "sum(Tr_sol.values)"
   ]
  },
  {
   "cell_type": "markdown",
   "metadata": {},
   "source": [
    "## Diagnostic function (step: F. of the methodology $\\mathfrak{M}()$)"
   ]
  },
  {
   "cell_type": "code",
   "execution_count": null,
   "metadata": {},
   "outputs": [],
   "source": [
    "results = functions.DiagnosticFunction(H, C, P_sol, Tr_sol)"
   ]
  },
  {
   "cell_type": "markdown",
   "metadata": {},
   "source": [
    "## Plot results"
   ]
  },
  {
   "cell_type": "code",
   "execution_count": null,
   "metadata": {},
   "outputs": [],
   "source": [
    "for terminal, elems in Tr_sol.iterrows():\n",
    "    for i,e in elems.items():\n",
    "        if(e==1):\n",
    "            ind = elements[elements[\"name\"]==i].index[0]\n",
    "            elements.at[ind, 'terminal'] = terminal"
   ]
  },
  {
   "cell_type": "code",
   "execution_count": null,
   "metadata": {},
   "outputs": [],
   "source": [
    "import geopandas as gpd\n",
    "import pandas as pd\n",
    "from shapely import Point, LineString\n",
    "from shapely.ops import nearest_points\n",
    "\n",
    "connections = gpd.GeoDataFrame(columns=[\"from_id\", \"to_id\", \"terminal\", \"coor\"])\n",
    "\n",
    "estimated_optimal_paths = [p for p in P_sol.columns.values if P_sol[p][0] == 1]\n",
    "pp = [p.get_elements_names() for p in paths]\n",
    "estimated_optimal_paths = [pp[int(i[1:])-1] for i in estimated_optimal_paths]\n",
    "for h in estimated_optimal_paths[:-1]:\n",
    "    for i in range(len(h)-1):\n",
    "        elem_from = elements[elements[\"name\"]==h[i]]\n",
    "        elem_to = elements[elements[\"name\"]==h[i+1]]\n",
    "\n",
    "        \n",
    "        coor_from = elem_from.coor.values[0]\n",
    "        coor_to = elem_to.coor.values[0]\n",
    "\n",
    "        # Calculate nearest points (if necessary, otherwise use coordinates directly)\n",
    "        nearest_point_from = nearest_points(coor_from, coor_to)[0]\n",
    "        nearest_point_to = nearest_points(coor_to, coor_from)[0]\n",
    "\n",
    "        l = LineString([nearest_point_from, nearest_point_to])\n",
    "\n",
    "        new_row = {\n",
    "                        'from_id': elem_from.name.values[0], \n",
    "                        'to_id': elem_to.name.values[0], \n",
    "                        'terminal': h[-1], \n",
    "                        'coor': l\n",
    "                    }\n",
    "        new_row = gpd.GeoDataFrame([new_row])\n",
    "        connections = pd.concat([connections, new_row], ignore_index=True)\n",
    "connections = connections.set_geometry('coor')"
   ]
  },
  {
   "cell_type": "code",
   "execution_count": null,
   "metadata": {},
   "outputs": [],
   "source": [
    "import geopandas as gpd\n",
    "import matplotlib.pyplot as plt\n",
    "import matplotlib.colors as mcolors\n",
    "\n",
    "# Define a color map based on unique values in 'terminal'\n",
    "unique_terminals = elements['terminal'].unique()\n",
    "colors = plt.cm.get_cmap('tab20', len(unique_terminals))  # Use a colormap with a number of colors equal to unique terminals\n",
    "\n",
    "# Create a dictionary mapping terminal values to colors\n",
    "color_map = {terminal: colors(i) for i, terminal in enumerate(unique_terminals)}\n",
    "\n",
    "# Create a figure and axis\n",
    "fig, ax = plt.subplots(figsize=(10, 10))\n",
    "\n",
    "# Plot elements with colors based on 'terminal'\n",
    "elements['color'] = elements['terminal'].map(color_map)\n",
    "elements.plot(ax=ax, color=elements['color'], markersize=50, label='Elements')\n",
    "\n",
    "# Plot connections (assuming connections is a GeoDataFrame with 'coor' geometry)\n",
    "connections['color'] = connections['terminal'].map(color_map)\n",
    "connections.plot(ax=ax, color=connections['color'], linestyle='--', linewidth=.5, label='Connections')\n",
    "\n",
    "# Add legend for elements\n",
    "# Manually create a legend for terminal values\n",
    "from matplotlib.lines import Line2D\n",
    "legend_elements = [Line2D([0], [0], marker='o', color='w', markerfacecolor=color_map[terminal], markersize=10, label=f'Terminal {terminal}') \n",
    "                   for terminal in unique_terminals]\n",
    "# ax.legend(handles=legend_elements, title='Terminals')\n",
    "\n",
    "# Add labels and title\n",
    "plt.xlabel('Longitude')\n",
    "plt.ylabel('Latitude')\n",
    "plt.title('Elements and Connections Plot')\n",
    "\n",
    "# Show the plot\n",
    "plt.tight_layout()\n",
    "plt.show()\n"
   ]
  },
  {
   "cell_type": "code",
   "execution_count": null,
   "metadata": {},
   "outputs": [],
   "source": [
    "connections"
   ]
  },
  {
   "cell_type": "code",
   "execution_count": null,
   "metadata": {},
   "outputs": [],
   "source": []
  }
 ],
 "metadata": {
  "kernelspec": {
   "display_name": "Python 3.9.18 ('TPI')",
   "language": "python",
   "name": "python3"
  },
  "language_info": {
   "codemirror_mode": {
    "name": "ipython",
    "version": 3
   },
   "file_extension": ".py",
   "mimetype": "text/x-python",
   "name": "python",
   "nbconvert_exporter": "python",
   "pygments_lexer": "ipython3",
   "version": "3.9.18"
  },
  "orig_nbformat": 4,
  "vscode": {
   "interpreter": {
    "hash": "fa564d0f2a03dc94c7af0d2957412c12616e6a133e657fad4b1941849c6b5cc7"
   }
  }
 },
 "nbformat": 4,
 "nbformat_minor": 2
}
